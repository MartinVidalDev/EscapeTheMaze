{
 "cells": [
  {
   "cell_type": "markdown",
   "id": "c91cef24",
   "metadata": {},
   "source": [
    "# Classe Maze"
   ]
  },
  {
   "cell_type": "code",
   "execution_count": 18,
   "id": "2fe16fce",
   "metadata": {},
   "outputs": [],
   "source": [
    "from random import *"
   ]
  },
  {
   "cell_type": "code",
   "execution_count": 44,
   "id": "4d118069",
   "metadata": {},
   "outputs": [],
   "source": [
    "class Maze:\n",
    "    \"\"\"\n",
    "    Classe Labyrinthe\n",
    "    Représentation sous forme de graphe non-orienté\n",
    "    dont chaque sommet est une cellule (un tuple (l,c))\n",
    "    et dont la structure est représentée par un dictionnaire\n",
    "      - clés : sommets\n",
    "      - valeurs : ensemble des sommets voisins accessibles\n",
    "    \"\"\"\n",
    "    def __init__(self, height, width):\n",
    "        \"\"\"\n",
    "        Constructeur d'un labyrinthe de height cellules de haut \n",
    "        et de width cellules de large \n",
    "        Les voisinages sont initialisés à des ensembles vides\n",
    "        Remarque : dans le labyrinthe créé, chaque cellule est complètement emmurée\n",
    "        \"\"\"\n",
    "        self.height    = height\n",
    "        self.width     = width\n",
    "        self.neighbors = {(i,j): set() for i in range(height) for j in range (width)}\n",
    "\n",
    "    def info(self):\n",
    "        \"\"\"\n",
    "        **NE PAS MODIFIER CETTE MÉTHODE**\n",
    "        Affichage des attributs d'un objet 'Maze' (fonction utile pour deboguer)\n",
    "        Retour:\n",
    "            chaîne (string): description textuelle des attributs de l'objet\n",
    "        \"\"\"\n",
    "        txt = \"**Informations sur le labyrinthe**\\n\"\n",
    "        txt += f\"- Dimensions de la grille : {self.height} x {self.width}\\n\"\n",
    "        txt += \"- Voisinages :\\n\"\n",
    "        txt += str(self.neighbors)+\"\\n\"\n",
    "        valid = True\n",
    "        for c1 in {(i, j) for i in range(self.height) for j in range(self.width)}:\n",
    "            for c2 in self.neighbors[c1]:\n",
    "                if c1 not in self.neighbors[c2]:\n",
    "                    valid = False\n",
    "                    break\n",
    "            else:\n",
    "                continue\n",
    "            break\n",
    "        txt += \"- Structure cohérente\\n\" if valid else f\"- Structure incohérente : {c1} X {c2}\\n\"\n",
    "        return txt\n",
    "\n",
    "    def __str__(self):\n",
    "        \"\"\"\n",
    "        **NE PAS MODIFIER CETTE MÉTHODE**\n",
    "        Représentation textuelle d'un objet Maze (en utilisant des caractères ascii)\n",
    "        Retour:\n",
    "             chaîne (str) : chaîne de caractères représentant le labyrinthe\n",
    "        \"\"\"\n",
    "        txt = \"\"\n",
    "        # Première ligne\n",
    "        txt += \"┏\"\n",
    "        for j in range(self.width-1):\n",
    "            txt += \"━━━┳\"\n",
    "        txt += \"━━━┓\\n\"\n",
    "        txt += \"┃\"\n",
    "        for j in range(self.width-1):\n",
    "            txt += \"   ┃\" if (0,j+1) not in self.neighbors[(0,j)] else \"    \"\n",
    "        txt += \"   ┃\\n\"\n",
    "        # Lignes normales\n",
    "        for i in range(self.height-1):\n",
    "            txt += \"┣\"\n",
    "            for j in range(self.width-1):\n",
    "                txt += \"━━━╋\" if (i+1,j) not in self.neighbors[(i,j)] else \"   ╋\"\n",
    "            txt += \"━━━┫\\n\" if (i+1,self.width-1) not in self.neighbors[(i,self.width-1)] else \"   ┫\\n\"\n",
    "            txt += \"┃\"\n",
    "            for j in range(self.width):\n",
    "                txt += \"   ┃\" if (i+1,j+1) not in self.neighbors[(i+1,j)] else \"    \"\n",
    "            txt += \"\\n\"\n",
    "        # Bas du tableau\n",
    "        txt += \"┗\"\n",
    "        for i in range(self.width-1):\n",
    "            txt += \"━━━┻\"\n",
    "        txt += \"━━━┛\\n\"\n",
    "\n",
    "        return txt\n",
    "    \n",
    "    def add_wall(self, c1, c2):\n",
    "        self.neighbors[c1].remove(c2)\n",
    "        self.neighbors[c2].remove(c1)\n",
    "\n",
    "    def remove_wall(self, c1, c2):\n",
    "        self.neighbors[c1].add(c2)\n",
    "        self.neighbors[c2].add(c1)\n",
    "\n",
    "    def get_cells(self):\n",
    "        liste = []\n",
    "        for i in range(self.height):\n",
    "            for j in range(self.width):\n",
    "                liste.append((i, j))\n",
    "        return liste\n",
    "    \n",
    "    def get_walls(self):\n",
    "        liste = []\n",
    "        for i in range(self.height):\n",
    "            for j in range(self.width):\n",
    "                if j + 1 < self.width and (i, j + 1) not in self.neighbors[(i, j)]:\n",
    "                    liste.append([(i, j), (i, j + 1)])\n",
    "                if i + 1 < self.height and (i + 1, j) not in self.neighbors[(i, j)]:\n",
    "                    liste.append([(i, j), (i + 1, j)])\n",
    "        return liste\n",
    "    \n",
    "    def fill(self):\n",
    "        for i in range(self.height):\n",
    "            for j in range(self.width):\n",
    "                if j + 1 < self.width and (i, j + 1) in self.neighbors[(i, j)]:\n",
    "                    self.add_wall((i, j), (i, j + 1))\n",
    "                if i + 1 < self.height and (i + 1, j) in self.neighbors[(i, j)]:\n",
    "                    self.add_wall((i, j), (i + 1, j))\n",
    "\n",
    "    def empty(self):\n",
    "        for i in range(self.height):\n",
    "            for j in range(self.width):\n",
    "                if j + 1 < self.width and (i, j + 1) not in self.neighbors[(i, j)]:\n",
    "                    self.remove_wall((i, j), (i, j + 1))\n",
    "                if i + 1 < self.height and (i + 1, j) not in self.neighbors[(i, j)]:\n",
    "                    self.remove_wall((i, j), (i + 1, j))\n",
    "\n",
    "    def get_contiguous_cells(self, c):\n",
    "        liste = []\n",
    "        (i, j) = c\n",
    "        if j - 1 >= 0:\n",
    "            liste.append((i, j - 1))\n",
    "        if i - 1 >= 0:\n",
    "            liste.append((i - 1, j))\n",
    "        if j + 1 < self.width:\n",
    "            liste.append((i, j + 1))\n",
    "        if i + 1 < self.height:\n",
    "            liste.append((i + 1, j))\n",
    "        return liste\n",
    "    \n",
    "    def get_reachable_cells(self, c):\n",
    "        liste = []\n",
    "        (i, j) = c\n",
    "        if j - 1 >= 0 and (i, j - 1) in self.neighbors[(i, j)]:\n",
    "            liste.append((i, j - 1))\n",
    "        if i - 1 >= 0 and (i - 1, j) in self.neighbors[(i, j)]:\n",
    "            liste.append((i - 1, j))\n",
    "        if j + 1 < self.width and (i, j + 1) in self.neighbors[(i, j)]:\n",
    "            liste.append((i, j + 1))\n",
    "        if i + 1 < self.height and (i + 1, j) in self.neighbors[(i, j)]:\n",
    "            liste.append((i + 1, j))\n",
    "        return liste\n",
    "    \n",
    "    @classmethod\n",
    "    def gen_btree(cls, h, w):\n",
    "        laby = Maze(h, w)\n",
    "        for i in range(laby.height):\n",
    "            for j in range(laby.width):\n",
    "                ACTUEL = (i, j)\n",
    "                EST = (i, j + 1)\n",
    "                SUD = (i + 1, j)\n",
    "                if j + 1 < laby.width and i + 1 < laby.height:\n",
    "                    if 0 == randint(0, 1):\n",
    "                        laby.remove_wall(ACTUEL, SUD)\n",
    "                    else:\n",
    "                        laby.remove_wall(ACTUEL, EST)\n",
    "                elif j + 1 >= laby.width and i + 1 < laby.height:\n",
    "                    laby.remove_wall(ACTUEL, SUD)\n",
    "                elif i + 1 >= laby.height and j + 1 < laby.width:\n",
    "                    laby.remove_wall(ACTUEL, EST)\n",
    "        return laby\n",
    "    \n",
    "    @classmethod\n",
    "    def gen_sidewinder(cls, h, w):\n",
    "        laby = Maze(h, w)\n",
    "\n",
    "        for i in range(laby.height - 1):\n",
    "            sequence = []\n",
    "            for j in range(laby.width - 1):\n",
    "                sequence.append((i, j))\n",
    "                if randint(0, 1) == 0:\n",
    "                    laby.remove_wall((i, j), (i, j + 1))\n",
    "                else:\n",
    "                    murACasser = choice(sequence)\n",
    "                    laby.remove_wall(murACasser, (murACasser[0] + 1, murACasser[1])) # On casse le mur SUD\n",
    "                    sequence = []\n",
    "            sequence.append((i, w - 1)) # Au cas ou on arrive pas à la dernière cellule\n",
    "            murACasser = choice(sequence)\n",
    "            laby.remove_wall(murACasser, (murACasser[0] + 1, murACasser[1])) # On casse le mur SUD\n",
    "\n",
    "        for j in range(laby.width - 1): # On supprime le mur EST de toute la ligne du bas\n",
    "            laby.remove_wall((h - 1, j), (h - 1, j + 1))\n",
    "\n",
    "        return laby\n",
    "    \n",
    "    @classmethod\n",
    "    def gen_fusion(cls, h, w):\n",
    "\n",
    "        laby = Maze(h, w) # Initialisation du labyrinthe\n",
    "        label = {} # Création du label (dictionnaire)\n",
    "        cpt = 1 # Création du compteur pour le label\n",
    "\n",
    "        # Labelisation de toutes les cellules du labyrinthe\n",
    "        for i in range(laby.height):\n",
    "            for j in range(laby.width):\n",
    "                label[(i, j)] = cpt\n",
    "                cpt += 1\n",
    "\n",
    "        listeMurs = laby.get_walls() # On récupère tout les murs\n",
    "        shuffle(listeMurs) # On mélange les murs\n",
    "\n",
    "        for i in listeMurs: # On parcours la liste des murs\n",
    "            if label[i[0]] != label[i[1]]: # Si deux cellules ont un label différent :\n",
    "                laby.remove_wall((i[0]), (i[1])) # On retire le mur entre elle\n",
    "                # On récupère le label des deux cellules\n",
    "                labC1 = label[i[0]]\n",
    "                labC2 = label[i[1]]\n",
    "                for wall, lab in label.items(): # On parcours le label\n",
    "                    if lab == labC2: # Si une cellule à le même label que notre deuxième cellule :\n",
    "                        label[wall] = labC1 # On lui affecte le label de la 1ère cellule\n",
    "        return laby\n",
    "    \n",
    "    @classmethod\n",
    "    def gen_exploration(cls, h, w):\n",
    "        laby = Maze(h, w)  # Initialisation du labyrinthe\n",
    "        premiereCellule = choice(laby.get_cells())  # Choix d'une cellule au hasard\n",
    "        visite = [premiereCellule]  # Marquer cette cellule comme étant visitée\n",
    "        pile = [premiereCellule]  # Mettre cette cellule dans une pile\n",
    "\n",
    "        while pile:  # Tant que la pile n'est pas vide\n",
    "            fin = len(pile) - 1\n",
    "            celluleHaut = pile[fin]\n",
    "            cellulesVoisines = laby.get_contiguous_cells(celluleHaut)\n",
    "            cellulesNonVisites = []\n",
    "            # Ajout des cellules voisines non visitées dans une liste\n",
    "            for a in cellulesVoisines:\n",
    "                if a not in visite:\n",
    "                    cellulesNonVisites.append(a)\n",
    "\n",
    "            if cellulesNonVisites: # Si il y a un élément dans la liste\n",
    "                celluleChoisie = choice(cellulesNonVisites)  # Choix aléatoire parmis les voisins de notre cellule\n",
    "                # en haut de la pile\n",
    "                laby.remove_wall(celluleHaut, celluleChoisie)  # Cassage du mur entre la cellule tirée au sort et\n",
    "                # celle du haut de la pile\n",
    "                visite.append(celluleChoisie)\n",
    "                pile.append(celluleChoisie)\n",
    "            else:  # Quand la cellule actuelle n'a plus de voisins\n",
    "                pile.pop()  # Supprime la première cellule de la pile\n",
    "        return laby\n",
    "    \n",
    "    @classmethod\n",
    "    def gen_wilson(cls, h, w):\n",
    "\n",
    "        laby = Maze(h, w)\n",
    "        toutesCellules = laby.get_cells()\n",
    "        visite = []\n",
    "        celluleDepart = choice(toutesCellules)\n",
    "        visite.append(celluleDepart)\n",
    "\n",
    "        while len(visite) < len(toutesCellules): # Tant qu'il reste des cases non marquées :\n",
    "\n",
    "            cellulesNonVisitees = [] # Ajout dans un liste de toutes les cellule non marquées\n",
    "            for a in toutesCellules:\n",
    "                if a not in visite:\n",
    "                    cellulesNonVisitees.append(a)\n",
    "\n",
    "            celluleDepart = choice(cellulesNonVisitees)\n",
    "            chemin = [celluleDepart]\n",
    "            celluleActuelle = celluleDepart\n",
    "\n",
    "            while celluleActuelle not in visite: # Tant que la case actuelle ne rencontre pas une case marquée\n",
    "                cellulesVoisines = laby.get_contiguous_cells(celluleActuelle)\n",
    "                shuffle(cellulesVoisines)\n",
    "                celluleSuivante = choice(cellulesVoisines) # On choisit la prochaine case# aléatoirement\n",
    "\n",
    "                if celluleSuivante in chemin: # Si la tête semort la queue\n",
    "                    index = chemin.index(celluleSuivante) # On ne garde que la première occurence\n",
    "                    chemin = chemin[:index + 1] # Supprime les cases que l'on a déjà visité à partir de la 1ère occurence\n",
    "                else:\n",
    "                    chemin.append(celluleSuivante) # Ajoute la cases au chemin\n",
    "\n",
    "                celluleActuelle = celluleSuivante\n",
    "\n",
    "            for i in range(len(chemin) - 1):\n",
    "                visite.append(chemin[i]) # On ajoute les cases du chemins aux cases visitées\n",
    "                laby.remove_wall(chemin[i], chemin[i + 1]) # On retire les mur entre les cases du chemin\n",
    "\n",
    "        return laby\n",
    "    \n",
    "    def overlay(self, content=None):\n",
    "        \"\"\"\n",
    "        Rendu en mode texte, sur la sortie standard, \\\n",
    "        d'un labyrinthe avec du contenu dans les cellules\n",
    "        Argument:\n",
    "            content (dict) : dictionnaire tq content[cell] contient le caractère à afficher au milieu de la cellule\n",
    "        Retour:\n",
    "            string\n",
    "        \"\"\"\n",
    "        if content is None:\n",
    "            content = {(i,j):' ' for i in range(self.height) for j in range(self.width)}\n",
    "        else:\n",
    "            # Python >=3.9\n",
    "            #content = content | {(i, j): ' ' for i in range(\n",
    "            #    self.height) for j in range(self.width) if (i,j) not in content}\n",
    "            # Python <3.9\n",
    "            new_content = {(i, j): ' ' for i in range(self.height) for j in range(self.width) if (i,j) not in content}\n",
    "            content = {**content, **new_content}\n",
    "        txt = r\"\"\n",
    "        # Première ligne\n",
    "        txt += \"┏\"\n",
    "        for j in range(self.width-1):\n",
    "            txt += \"━━━┳\"\n",
    "        txt += \"━━━┓\\n\"\n",
    "        txt += \"┃\"\n",
    "        for j in range(self.width-1):\n",
    "            txt += \" \"+content[(0,j)]+\" ┃\" if (0,j+1) not in self.neighbors[(0,j)] else \" \"+content[(0,j)]+\"  \"\n",
    "        txt += \" \"+content[(0,self.width-1)]+\" ┃\\n\"\n",
    "        # Lignes normales\n",
    "        for i in range(self.height-1):\n",
    "            txt += \"┣\"\n",
    "            for j in range(self.width-1):\n",
    "                txt += \"━━━╋\" if (i+1,j) not in self.neighbors[(i,j)] else \"   ╋\"\n",
    "            txt += \"━━━┫\\n\" if (i+1,self.width-1) not in self.neighbors[(i,self.width-1)] else \"   ┫\\n\"\n",
    "            txt += \"┃\"\n",
    "            for j in range(self.width):\n",
    "                txt += \" \"+content[(i+1,j)]+\" ┃\" if (i+1,j+1) not in self.neighbors[(i+1,j)] else \" \"+content[(i+1,j)]+\"  \"\n",
    "            txt += \"\\n\"\n",
    "        # Bas du tableau\n",
    "        txt += \"┗\"\n",
    "        for i in range(self.width-1):\n",
    "            txt += \"━━━┻\"\n",
    "        txt += \"━━━┛\\n\"\n",
    "        return txt\n",
    "\n",
    "    def solve_dfs(self, start: tuple, stop: tuple):\n",
    "        pile = [start]\n",
    "        visite = [start]\n",
    "        pred = {start: start}\n",
    "        solution = []\n",
    "\n",
    "        while pile:\n",
    "            c = pile.pop()\n",
    "            if c == stop:\n",
    "                break\n",
    "            else:\n",
    "                voisinesC = self.get_reachable_cells(c)\n",
    "                for a in voisinesC:\n",
    "                    if a not in visite:\n",
    "                        visite.append(a)\n",
    "                        pile.append(a)\n",
    "                        pred[a] = c\n",
    "\n",
    "        c = stop\n",
    "        while c != start:\n",
    "            solution.append(c)\n",
    "            c = pred[c]\n",
    "        solution.reverse()  # Inverser le chemin pour commencer à partir de start\n",
    "\n",
    "        return solution\n",
    "    \n",
    "    def solve_bfs(self, start: tuple, stop: tuple):\n",
    "        file = [start]\n",
    "        visite = [start]\n",
    "        pred = {start: start}\n",
    "        solution = []\n",
    "\n",
    "        while file:\n",
    "            c = file.pop(0)\n",
    "            if c == stop:\n",
    "                break\n",
    "            else:\n",
    "                voisinesC = self.get_reachable_cells(c)\n",
    "                for a in voisinesC:\n",
    "                    if a not in visite:\n",
    "                        visite.append(a)\n",
    "                        file.append(a)\n",
    "                        pred[a] = c\n",
    "        c = stop\n",
    "        while c != start:\n",
    "            solution.append(c)\n",
    "            c = pred[c]\n",
    "        solution.append(start)\n",
    "        solution.reverse()\n",
    "\n",
    "        return solution"
   ]
  },
  {
   "cell_type": "code",
   "execution_count": 3,
   "id": "c382c6d7",
   "metadata": {},
   "outputs": [
    {
     "name": "stdout",
     "output_type": "stream",
     "text": [
      "**Informations sur le labyrinthe**\n",
      "- Dimensions de la grille : 4 x 4\n",
      "- Voisinages :\n",
      "{(0, 0): set(), (0, 1): set(), (0, 2): set(), (0, 3): set(), (1, 0): set(), (1, 1): set(), (1, 2): set(), (1, 3): set(), (2, 0): set(), (2, 1): set(), (2, 2): set(), (2, 3): set(), (3, 0): set(), (3, 1): set(), (3, 2): set(), (3, 3): set()}\n",
      "- Structure cohérente\n",
      "\n"
     ]
    }
   ],
   "source": [
    "laby = Maze(4, 4)\n",
    "print(laby.info())"
   ]
  },
  {
   "cell_type": "code",
   "execution_count": 4,
   "id": "1f092c24",
   "metadata": {},
   "outputs": [
    {
     "name": "stdout",
     "output_type": "stream",
     "text": [
      "┏━━━┳━━━┳━━━┳━━━┓\n",
      "┃   ┃   ┃   ┃   ┃\n",
      "┣━━━╋━━━╋━━━╋━━━┫\n",
      "┃   ┃   ┃   ┃   ┃\n",
      "┣━━━╋━━━╋━━━╋━━━┫\n",
      "┃   ┃   ┃   ┃   ┃\n",
      "┣━━━╋━━━╋━━━╋━━━┫\n",
      "┃   ┃   ┃   ┃   ┃\n",
      "┗━━━┻━━━┻━━━┻━━━┛\n",
      "\n"
     ]
    }
   ],
   "source": [
    "print(laby)"
   ]
  },
  {
   "cell_type": "code",
   "execution_count": 5,
   "id": "d3af77e9",
   "metadata": {},
   "outputs": [
    {
     "name": "stdout",
     "output_type": "stream",
     "text": [
      "┏━━━┳━━━┳━━━┳━━━┓\n",
      "┃   ┃           ┃\n",
      "┣   ╋   ╋━━━╋   ┫\n",
      "┃   ┃       ┃   ┃\n",
      "┣   ╋━━━╋   ╋   ┫\n",
      "┃           ┃   ┃\n",
      "┣   ╋━━━╋━━━╋   ┫\n",
      "┃           ┃   ┃\n",
      "┗━━━┻━━━┻━━━┻━━━┛\n",
      "\n"
     ]
    }
   ],
   "source": [
    "laby.neighbors = {\n",
    "    (0, 0): {(1, 0)},\n",
    "    (0, 1): {(0, 2), (1, 1)},\n",
    "    (0, 2): {(0, 1), (0, 3)},\n",
    "    (0, 3): {(0, 2), (1, 3)},\n",
    "    (1, 0): {(2, 0), (0, 0)},\n",
    "    (1, 1): {(0, 1), (1, 2)},\n",
    "    (1, 2): {(1, 1), (2, 2)},\n",
    "    (1, 3): {(2, 3), (0, 3)},\n",
    "    (2, 0): {(1, 0), (2, 1), (3, 0)},\n",
    "    (2, 1): {(2, 0), (2, 2)},\n",
    "    (2, 2): {(1, 2), (2, 1)},\n",
    "    (2, 3): {(3, 3), (1, 3)},\n",
    "    (3, 0): {(3, 1), (2, 0)},\n",
    "    (3, 1): {(3, 2), (3, 0)},\n",
    "    (3, 2): {(3, 1)},\n",
    "    (3, 3): {(2,3)}\n",
    "}\n",
    "\n",
    "print(laby)"
   ]
  },
  {
   "cell_type": "markdown",
   "id": "8e316aa5",
   "metadata": {},
   "source": [
    "# Manipulation de labyrinthes"
   ]
  },
  {
   "cell_type": "code",
   "execution_count": 6,
   "id": "1dd3e595",
   "metadata": {},
   "outputs": [
    {
     "name": "stdout",
     "output_type": "stream",
     "text": [
      "┏━━━┳━━━┳━━━┳━━━┳━━━┓\n",
      "┃   ┃   ┃   ┃   ┃   ┃\n",
      "┣━━━╋━━━╋━━━╋━━━╋━━━┫\n",
      "┃   ┃   ┃   ┃   ┃   ┃\n",
      "┣━━━╋━━━╋━━━╋━━━╋━━━┫\n",
      "┃   ┃   ┃   ┃   ┃   ┃\n",
      "┣━━━╋━━━╋━━━╋━━━╋━━━┫\n",
      "┃   ┃   ┃   ┃   ┃   ┃\n",
      "┣━━━╋━━━╋━━━╋━━━╋━━━┫\n",
      "┃   ┃   ┃   ┃   ┃   ┃\n",
      "┗━━━┻━━━┻━━━┻━━━┻━━━┛\n",
      "\n"
     ]
    }
   ],
   "source": [
    "laby = Maze(5, 5)\n",
    "print(laby)"
   ]
  },
  {
   "cell_type": "code",
   "execution_count": 7,
   "id": "5301dd38",
   "metadata": {},
   "outputs": [
    {
     "name": "stdout",
     "output_type": "stream",
     "text": [
      "┏━━━┳━━━┳━━━┳━━━┳━━━┓\n",
      "┃                   ┃\n",
      "┣   ╋   ╋   ╋   ╋   ┫\n",
      "┃                   ┃\n",
      "┣   ╋   ╋   ╋   ╋   ┫\n",
      "┃                   ┃\n",
      "┣   ╋   ╋   ╋   ╋   ┫\n",
      "┃                   ┃\n",
      "┣   ╋   ╋   ╋   ╋   ┫\n",
      "┃                   ┃\n",
      "┗━━━┻━━━┻━━━┻━━━┻━━━┛\n",
      "\n"
     ]
    }
   ],
   "source": [
    "laby = Maze(5, 5)\n",
    "laby.empty()\n",
    "print(laby)"
   ]
  },
  {
   "cell_type": "code",
   "execution_count": 9,
   "id": "985f3e40",
   "metadata": {},
   "outputs": [
    {
     "name": "stdout",
     "output_type": "stream",
     "text": [
      "┏━━━┳━━━┳━━━┳━━━┳━━━┓\n",
      "┃   ┃   ┃   ┃   ┃   ┃\n",
      "┣━━━╋━━━╋━━━╋━━━╋━━━┫\n",
      "┃   ┃   ┃   ┃   ┃   ┃\n",
      "┣━━━╋━━━╋━━━╋━━━╋━━━┫\n",
      "┃   ┃   ┃   ┃   ┃   ┃\n",
      "┣━━━╋━━━╋━━━╋━━━╋━━━┫\n",
      "┃   ┃   ┃   ┃   ┃   ┃\n",
      "┣━━━╋━━━╋━━━╋━━━╋━━━┫\n",
      "┃   ┃   ┃   ┃   ┃   ┃\n",
      "┗━━━┻━━━┻━━━┻━━━┻━━━┛\n",
      "\n"
     ]
    }
   ],
   "source": [
    "laby.fill()\n",
    "print(laby)"
   ]
  },
  {
   "cell_type": "code",
   "execution_count": 10,
   "id": "5020f34d",
   "metadata": {},
   "outputs": [
    {
     "name": "stdout",
     "output_type": "stream",
     "text": [
      "┏━━━┳━━━┳━━━┳━━━┳━━━┓\n",
      "┃       ┃   ┃   ┃   ┃\n",
      "┣━━━╋━━━╋━━━╋━━━╋━━━┫\n",
      "┃   ┃   ┃   ┃   ┃   ┃\n",
      "┣━━━╋━━━╋━━━╋━━━╋━━━┫\n",
      "┃   ┃   ┃   ┃   ┃   ┃\n",
      "┣━━━╋━━━╋━━━╋━━━╋━━━┫\n",
      "┃   ┃   ┃   ┃   ┃   ┃\n",
      "┣━━━╋━━━╋━━━╋━━━╋━━━┫\n",
      "┃   ┃   ┃   ┃   ┃   ┃\n",
      "┗━━━┻━━━┻━━━┻━━━┻━━━┛\n",
      "\n"
     ]
    }
   ],
   "source": [
    "laby.remove_wall((0, 0), (0, 1))\n",
    "print(laby)"
   ]
  },
  {
   "cell_type": "code",
   "execution_count": 11,
   "id": "5267e6a1",
   "metadata": {},
   "outputs": [
    {
     "name": "stdout",
     "output_type": "stream",
     "text": [
      "┏━━━┳━━━┳━━━┳━━━┳━━━┓\n",
      "┃   ┃               ┃\n",
      "┣   ╋━━━╋   ╋   ╋   ┫\n",
      "┃                   ┃\n",
      "┣   ╋   ╋   ╋   ╋   ┫\n",
      "┃                   ┃\n",
      "┣   ╋   ╋   ╋   ╋   ┫\n",
      "┃                   ┃\n",
      "┣   ╋   ╋   ╋   ╋   ┫\n",
      "┃                   ┃\n",
      "┗━━━┻━━━┻━━━┻━━━┻━━━┛\n",
      "\n"
     ]
    }
   ],
   "source": [
    "laby.empty()\n",
    "laby.add_wall((0, 0), (0, 1))\n",
    "laby.add_wall((0, 1), (1, 1))\n",
    "print(laby)"
   ]
  },
  {
   "cell_type": "code",
   "execution_count": 12,
   "id": "549ac2b3",
   "metadata": {},
   "outputs": [
    {
     "name": "stdout",
     "output_type": "stream",
     "text": [
      "[[(0, 0), (0, 1)], [(0, 1), (1, 1)]]\n"
     ]
    }
   ],
   "source": [
    "print(laby.get_walls())"
   ]
  },
  {
   "cell_type": "code",
   "execution_count": 13,
   "id": "ad240cc1",
   "metadata": {},
   "outputs": [
    {
     "name": "stdout",
     "output_type": "stream",
     "text": [
      "[(0, 0), (0, 2), (1, 1)]\n"
     ]
    }
   ],
   "source": [
    "print(laby.get_contiguous_cells((0,1)))"
   ]
  },
  {
   "cell_type": "code",
   "execution_count": 14,
   "id": "d8f488ab",
   "metadata": {},
   "outputs": [
    {
     "name": "stdout",
     "output_type": "stream",
     "text": [
      "[(0, 2)]\n"
     ]
    }
   ],
   "source": [
    "print(laby.get_reachable_cells((0,1)))"
   ]
  },
  {
   "cell_type": "markdown",
   "id": "a4ce3a16",
   "metadata": {},
   "source": [
    "# Génération"
   ]
  },
  {
   "cell_type": "markdown",
   "id": "e8d5ef94",
   "metadata": {},
   "source": [
    "## Arbre binaire"
   ]
  },
  {
   "cell_type": "code",
   "execution_count": 20,
   "id": "74a90690",
   "metadata": {},
   "outputs": [
    {
     "name": "stdout",
     "output_type": "stream",
     "text": [
      "┏━━━┳━━━┳━━━┳━━━┓\n",
      "┃       ┃   ┃   ┃\n",
      "┣━━━╋   ╋   ╋   ┫\n",
      "┃   ┃   ┃       ┃\n",
      "┣   ╋   ╋━━━╋   ┫\n",
      "┃   ┃       ┃   ┃\n",
      "┣   ╋━━━╋   ╋   ┫\n",
      "┃               ┃\n",
      "┗━━━┻━━━┻━━━┻━━━┛\n",
      "\n"
     ]
    }
   ],
   "source": [
    "laby = Maze.gen_btree(4, 4)\n",
    "print(laby)"
   ]
  },
  {
   "cell_type": "markdown",
   "id": "464a5443",
   "metadata": {},
   "source": [
    "## Sidewinder"
   ]
  },
  {
   "cell_type": "code",
   "execution_count": 28,
   "id": "28a04145",
   "metadata": {},
   "outputs": [
    {
     "name": "stdout",
     "output_type": "stream",
     "text": [
      "┏━━━┳━━━┳━━━┳━━━┓\n",
      "┃       ┃   ┃   ┃\n",
      "┣   ╋━━━╋   ╋   ┫\n",
      "┃   ┃           ┃\n",
      "┣   ╋   ╋━━━╋━━━┫\n",
      "┃       ┃       ┃\n",
      "┣━━━╋   ╋   ╋━━━┫\n",
      "┃               ┃\n",
      "┗━━━┻━━━┻━━━┻━━━┛\n",
      "\n"
     ]
    }
   ],
   "source": [
    "laby = Maze.gen_sidewinder(4, 4)\n",
    "print(laby)"
   ]
  },
  {
   "cell_type": "markdown",
   "id": "e6f7f14a",
   "metadata": {},
   "source": [
    "## Fusion de chemins"
   ]
  },
  {
   "cell_type": "code",
   "execution_count": 30,
   "id": "014fab71",
   "metadata": {},
   "outputs": [
    {
     "name": "stdout",
     "output_type": "stream",
     "text": [
      "┏━━━┳━━━┳━━━┳━━━┳━━━┳━━━┳━━━┳━━━┳━━━┳━━━┳━━━┳━━━┳━━━┳━━━┳━━━┓\n",
      "┃           ┃                       ┃   ┃   ┃               ┃\n",
      "┣━━━╋━━━╋   ╋━━━╋━━━╋   ╋━━━╋━━━╋━━━╋   ╋   ╋━━━╋━━━╋   ╋━━━┫\n",
      "┃       ┃               ┃   ┃       ┃           ┃   ┃       ┃\n",
      "┣   ╋━━━╋   ╋━━━╋   ╋━━━╋   ╋   ╋   ╋   ╋   ╋   ╋   ╋   ╋━━━┫\n",
      "┃   ┃   ┃   ┃       ┃       ┃   ┃       ┃   ┃       ┃       ┃\n",
      "┣   ╋   ╋   ╋━━━╋   ╋━━━╋   ╋━━━╋   ╋━━━╋━━━╋━━━╋   ╋   ╋   ┫\n",
      "┃           ┃       ┃           ┃       ┃   ┃           ┃   ┃\n",
      "┣   ╋   ╋━━━╋   ╋━━━╋━━━╋   ╋   ╋━━━╋   ╋   ╋   ╋━━━╋   ╋━━━┫\n",
      "┃   ┃   ┃       ┃           ┃           ┃       ┃   ┃       ┃\n",
      "┣━━━╋━━━╋   ╋   ╋━━━╋━━━╋   ╋━━━╋   ╋━━━╋━━━╋   ╋   ╋   ╋   ┫\n",
      "┃           ┃   ┃       ┃   ┃       ┃       ┃       ┃   ┃   ┃\n",
      "┣   ╋━━━╋━━━╋━━━╋   ╋━━━╋   ╋━━━╋━━━╋   ╋━━━╋━━━╋   ╋━━━╋━━━┫\n",
      "┃               ┃   ┃           ┃   ┃                   ┃   ┃\n",
      "┣   ╋   ╋━━━╋   ╋   ╋   ╋━━━╋   ╋   ╋━━━╋   ╋   ╋━━━╋━━━╋   ┫\n",
      "┃   ┃   ┃   ┃       ┃       ┃       ┃       ┃       ┃       ┃\n",
      "┣   ╋━━━╋   ╋━━━╋   ╋━━━╋━━━╋   ╋━━━╋━━━╋━━━╋━━━╋━━━╋   ╋   ┫\n",
      "┃   ┃       ┃                   ┃   ┃   ┃           ┃   ┃   ┃\n",
      "┣━━━╋   ╋━━━╋━━━╋   ╋━━━╋━━━╋   ╋   ╋   ╋   ╋━━━╋━━━╋   ╋━━━┫\n",
      "┃           ┃       ┃                               ┃   ┃   ┃\n",
      "┣━━━╋━━━╋   ╋━━━╋   ╋━━━╋   ╋━━━╋   ╋━━━╋━━━╋━━━╋   ╋   ╋   ┫\n",
      "┃                   ┃       ┃       ┃   ┃       ┃           ┃\n",
      "┣   ╋━━━╋   ╋━━━╋━━━╋━━━╋━━━╋   ╋━━━╋   ╋━━━╋   ╋━━━╋━━━╋   ┫\n",
      "┃       ┃           ┃   ┃                   ┃   ┃       ┃   ┃\n",
      "┣   ╋━━━╋━━━╋   ╋   ╋   ╋━━━╋   ╋   ╋   ╋━━━╋   ╋   ╋━━━╋   ┫\n",
      "┃   ┃   ┃   ┃   ┃       ┃       ┃   ┃   ┃       ┃           ┃\n",
      "┣━━━╋   ╋   ╋   ╋━━━╋━━━╋━━━╋━━━╋━━━╋   ╋━━━╋   ╋━━━╋   ╋━━━┫\n",
      "┃       ┃       ┃           ┃                   ┃           ┃\n",
      "┣   ╋━━━╋━━━╋━━━╋   ╋   ╋━━━╋   ╋━━━╋━━━╋   ╋   ╋━━━╋━━━╋━━━┫\n",
      "┃                   ┃           ┃           ┃               ┃\n",
      "┗━━━┻━━━┻━━━┻━━━┻━━━┻━━━┻━━━┻━━━┻━━━┻━━━┻━━━┻━━━┻━━━┻━━━┻━━━┛\n",
      "\n"
     ]
    }
   ],
   "source": [
    "laby = Maze.gen_fusion(15,15)\n",
    "print(laby)"
   ]
  },
  {
   "cell_type": "markdown",
   "id": "37df7763",
   "metadata": {},
   "source": [
    "## Exploration exhaustive"
   ]
  },
  {
   "cell_type": "code",
   "execution_count": 32,
   "id": "b1dae921",
   "metadata": {},
   "outputs": [
    {
     "name": "stdout",
     "output_type": "stream",
     "text": [
      "┏━━━┳━━━┳━━━┳━━━┳━━━┳━━━┳━━━┳━━━┳━━━┳━━━┳━━━┳━━━┳━━━┳━━━┳━━━┓\n",
      "┃                   ┃   ┃           ┃       ┃               ┃\n",
      "┣   ╋━━━╋━━━╋   ╋━━━╋   ╋━━━╋   ╋   ╋   ╋━━━╋   ╋━━━╋━━━╋   ┫\n",
      "┃   ┃       ┃           ┃       ┃   ┃   ┃       ┃       ┃   ┃\n",
      "┣   ╋━━━╋   ╋━━━╋━━━╋━━━╋   ╋━━━╋   ╋   ╋   ╋━━━╋   ╋   ╋   ┫\n",
      "┃   ┃           ┃           ┃   ┃   ┃       ┃       ┃   ┃   ┃\n",
      "┣   ╋   ╋━━━╋   ╋   ╋━━━╋━━━╋   ╋   ╋   ╋━━━╋   ╋━━━╋   ╋   ┫\n",
      "┃   ┃       ┃   ┃           ┃   ┃   ┃   ┃   ┃       ┃       ┃\n",
      "┣   ╋   ╋   ╋   ╋━━━╋━━━╋   ╋   ╋   ╋   ╋   ╋━━━╋   ╋━━━╋━━━┫\n",
      "┃   ┃   ┃   ┃       ┃       ┃       ┃       ┃   ┃           ┃\n",
      "┣   ╋━━━╋   ╋━━━╋   ╋   ╋━━━╋   ╋━━━╋━━━╋   ╋   ╋━━━╋━━━╋   ┫\n",
      "┃           ┃   ┃       ┃   ┃   ┃                       ┃   ┃\n",
      "┣━━━╋━━━╋━━━╋   ╋━━━╋━━━╋   ╋   ╋   ╋━━━╋━━━╋━━━╋━━━╋━━━╋   ┫\n",
      "┃   ┃                   ┃       ┃           ┃       ┃       ┃\n",
      "┣   ╋   ╋━━━╋━━━╋   ╋   ╋   ╋━━━╋━━━╋━━━╋   ╋   ╋   ╋   ╋   ┫\n",
      "┃               ┃   ┃   ┃       ┃       ┃   ┃   ┃       ┃   ┃\n",
      "┣   ╋━━━╋━━━╋━━━╋   ╋   ╋━━━╋   ╋   ╋   ╋   ╋   ╋━━━╋━━━╋   ┫\n",
      "┃   ┃       ┃       ┃       ┃   ┃   ┃       ┃           ┃   ┃\n",
      "┣━━━╋   ╋   ╋   ╋━━━╋   ╋━━━╋   ╋   ╋━━━╋━━━╋━━━╋━━━╋   ╋   ┫\n",
      "┃       ┃       ┃   ┃   ┃       ┃               ┃       ┃   ┃\n",
      "┣   ╋━━━╋━━━╋━━━╋   ╋   ╋   ╋━━━╋━━━╋━━━╋━━━╋━━━╋   ╋━━━╋   ┫\n",
      "┃           ┃           ┃   ┃       ┃           ┃   ┃       ┃\n",
      "┣   ╋━━━╋   ╋━━━╋━━━╋━━━╋   ╋   ╋   ╋   ╋━━━╋   ╋   ╋━━━╋━━━┫\n",
      "┃   ┃   ┃                   ┃   ┃   ┃       ┃   ┃           ┃\n",
      "┣   ╋   ╋━━━╋━━━╋━━━╋━━━╋━━━╋   ╋   ╋━━━╋   ╋   ╋━━━╋━━━╋   ┫\n",
      "┃   ┃       ┃                   ┃           ┃               ┃\n",
      "┣   ╋   ╋   ╋━━━╋   ╋━━━╋━━━╋━━━╋━━━╋━━━╋━━━╋━━━╋━━━╋━━━╋   ┫\n",
      "┃   ┃   ┃       ┃           ┃           ┃               ┃   ┃\n",
      "┣   ╋   ╋━━━╋   ╋━━━╋━━━╋   ╋   ╋━━━╋━━━╋   ╋   ╋━━━╋━━━╋   ┫\n",
      "┃       ┃                   ┃               ┃               ┃\n",
      "┗━━━┻━━━┻━━━┻━━━┻━━━┻━━━┻━━━┻━━━┻━━━┻━━━┻━━━┻━━━┻━━━┻━━━┻━━━┛\n",
      "\n"
     ]
    }
   ],
   "source": [
    "laby = Maze.gen_exploration(15,15)\n",
    "print(laby)"
   ]
  },
  {
   "cell_type": "markdown",
   "id": "7c8af3b2",
   "metadata": {},
   "source": [
    "## L'algorithme de Wilson"
   ]
  },
  {
   "cell_type": "code",
   "execution_count": 36,
   "id": "4779d9e3",
   "metadata": {},
   "outputs": [
    {
     "name": "stdout",
     "output_type": "stream",
     "text": [
      "┏━━━┳━━━┳━━━┳━━━┳━━━┳━━━┳━━━┳━━━┳━━━┳━━━┳━━━┳━━━┓\n",
      "┃           ┃           ┃                       ┃\n",
      "┣━━━╋   ╋━━━╋━━━╋━━━╋   ╋━━━╋   ╋━━━╋━━━╋━━━╋   ┫\n",
      "┃   ┃               ┃   ┃   ┃   ┃       ┃       ┃\n",
      "┣   ╋   ╋   ╋   ╋━━━╋   ╋   ╋   ╋━━━╋   ╋   ╋   ┫\n",
      "┃   ┃   ┃   ┃                   ┃           ┃   ┃\n",
      "┣   ╋   ╋━━━╋━━━╋━━━╋━━━╋━━━╋   ╋━━━╋━━━╋   ╋━━━┫\n",
      "┃                       ┃               ┃       ┃\n",
      "┣━━━╋━━━╋   ╋   ╋━━━╋━━━╋━━━╋   ╋━━━╋━━━╋━━━╋   ┫\n",
      "┃   ┃       ┃   ┃   ┃   ┃           ┃   ┃       ┃\n",
      "┣   ╋━━━╋   ╋━━━╋   ╋   ╋━━━╋   ╋━━━╋   ╋   ╋   ┫\n",
      "┃       ┃   ┃   ┃               ┃           ┃   ┃\n",
      "┣   ╋   ╋━━━╋   ╋   ╋━━━╋━━━╋   ╋   ╋━━━╋━━━╋   ┫\n",
      "┃   ┃   ┃               ┃       ┃   ┃           ┃\n",
      "┣━━━╋   ╋━━━╋━━━╋━━━╋   ╋━━━╋━━━╋   ╋━━━╋━━━╋   ┫\n",
      "┃               ┃       ┃   ┃       ┃           ┃\n",
      "┣━━━╋   ╋   ╋━━━╋━━━╋━━━╋   ╋   ╋   ╋   ╋━━━╋━━━┫\n",
      "┃       ┃       ┃       ┃       ┃   ┃           ┃\n",
      "┣━━━╋   ╋━━━╋   ╋   ╋━━━╋━━━╋   ╋━━━╋   ╋━━━╋   ┫\n",
      "┃       ┃           ┃           ┃   ┃       ┃   ┃\n",
      "┣   ╋━━━╋   ╋━━━╋   ╋━━━╋   ╋━━━╋   ╋   ╋━━━╋   ┫\n",
      "┃       ┃   ┃                   ┃       ┃   ┃   ┃\n",
      "┣   ╋━━━╋━━━╋━━━╋   ╋   ╋━━━╋━━━╋   ╋━━━╋   ╋   ┫\n",
      "┃       ┃           ┃       ┃               ┃   ┃\n",
      "┗━━━┻━━━┻━━━┻━━━┻━━━┻━━━┻━━━┻━━━┻━━━┻━━━┻━━━┻━━━┛\n",
      "\n"
     ]
    }
   ],
   "source": [
    "laby = Maze.gen_wilson(12, 12)\n",
    "print(laby)"
   ]
  },
  {
   "cell_type": "markdown",
   "id": "70894664",
   "metadata": {},
   "source": [
    "# Résolution"
   ]
  },
  {
   "cell_type": "markdown",
   "id": "f606d804",
   "metadata": {},
   "source": [
    "Exemples d'utilisation de la méthode overlay()"
   ]
  },
  {
   "cell_type": "code",
   "execution_count": 38,
   "id": "83b9958d",
   "metadata": {},
   "outputs": [
    {
     "name": "stdout",
     "output_type": "stream",
     "text": [
      "┏━━━┳━━━┳━━━┳━━━┓\n",
      "┃ c   o         ┃\n",
      "┣   ╋   ╋   ╋   ┫\n",
      "┃     u         ┃\n",
      "┣   ╋   ╋   ╋   ┫\n",
      "┃     c   o     ┃\n",
      "┣   ╋   ╋   ╋   ┫\n",
      "┃         u   ! ┃\n",
      "┗━━━┻━━━┻━━━┻━━━┛\n",
      "\n"
     ]
    }
   ],
   "source": [
    "laby = Maze(4,4)\n",
    "laby.empty()\n",
    "print(laby.overlay({\n",
    "    (0, 0):'c',\n",
    "    (0, 1):'o',\n",
    "    (1, 1):'u',\n",
    "    (2, 1):'c',\n",
    "    (2, 2):'o',\n",
    "    (3, 2):'u',\n",
    "    (3, 3):'!'}))"
   ]
  },
  {
   "cell_type": "code",
   "execution_count": 39,
   "id": "294e1564",
   "metadata": {},
   "outputs": [
    {
     "name": "stdout",
     "output_type": "stream",
     "text": [
      "┏━━━┳━━━┳━━━┳━━━┓\n",
      "┃ @             ┃\n",
      "┣   ╋   ╋   ╋   ┫\n",
      "┃ *   *         ┃\n",
      "┣   ╋   ╋   ╋   ┫\n",
      "┃     *   *     ┃\n",
      "┣   ╋   ╋   ╋   ┫\n",
      "┃         *   § ┃\n",
      "┗━━━┻━━━┻━━━┻━━━┛\n",
      "\n"
     ]
    }
   ],
   "source": [
    "laby = Maze(4,4)\n",
    "laby.empty()\n",
    "path = {(0, 0): '@',\n",
    "        (1, 0): '*',\n",
    "        (1, 1): '*',\n",
    "        (2, 1): '*',\n",
    "        (2, 2): '*',\n",
    "        (3, 2): '*',\n",
    "        (3, 3): '§'}\n",
    "print(laby.overlay(path))"
   ]
  },
  {
   "cell_type": "markdown",
   "id": "ff1701c1",
   "metadata": {},
   "source": [
    "## Résolution par parcours"
   ]
  },
  {
   "cell_type": "markdown",
   "id": "393a2ca9",
   "metadata": {},
   "source": [
    "### Parcours en profondeur"
   ]
  },
  {
   "cell_type": "code",
   "execution_count": 42,
   "id": "e2570f37",
   "metadata": {},
   "outputs": [
    {
     "name": "stdout",
     "output_type": "stream",
     "text": [
      "┏━━━┳━━━┳━━━┳━━━┳━━━┳━━━┳━━━┳━━━┳━━━┳━━━┳━━━┳━━━┳━━━┳━━━┳━━━┓\n",
      "┃ D   * ┃   ┃   ┃           ┃   ┃       ┃   ┃               ┃\n",
      "┣━━━╋   ╋   ╋   ╋━━━╋━━━╋   ╋   ╋━━━╋   ╋   ╋━━━╋━━━╋━━━╋   ┫\n",
      "┃ *   *     ┃               ┃           ┃   ┃               ┃\n",
      "┣   ╋━━━╋━━━╋━━━╋   ╋━━━╋━━━╋━━━╋━━━╋   ╋   ╋   ╋━━━╋━━━╋━━━┫\n",
      "┃ *   *   * ┃     *   * ┃       ┃   ┃               ┃       ┃\n",
      "┣   ╋━━━╋   ╋━━━╋   ╋   ╋   ╋━━━╋   ╋   ╋━━━╋━━━╋━━━╋   ╋   ┫\n",
      "┃       ┃ *   *   * ┃ *   *             ┃   ┃       ┃   ┃   ┃\n",
      "┣   ╋━━━╋   ╋━━━╋   ╋━━━╋   ╋━━━╋━━━╋   ╋   ╋━━━╋   ╋   ╋━━━┫\n",
      "┃       ┃   ┃   ┃       ┃ *         ┃   ┃ *   *   *   *     ┃\n",
      "┣━━━╋━━━╋━━━╋   ╋   ╋   ╋   ╋━━━╋━━━╋━━━╋   ╋   ╋   ╋   ╋   ┫\n",
      "┃           ┃       ┃   ┃ *   * ┃ *   *   * ┃   ┃   ┃ * ┃   ┃\n",
      "┣   ╋   ╋━━━╋━━━╋   ╋━━━╋━━━╋   ╋   ╋━━━╋━━━╋━━━╋━━━╋   ╋━━━┫\n",
      "┃   ┃   ┃   ┃       ┃   ┃   ┃ *   * ┃       ┃     *   *     ┃\n",
      "┣━━━╋   ╋   ╋   ╋   ╋   ╋   ╋━━━╋   ╋   ╋   ╋━━━╋   ╋━━━╋   ┫\n",
      "┃           ┃   ┃           ┃       ┃   ┃   ┃     *     ┃   ┃\n",
      "┣━━━╋   ╋━━━╋   ╋━━━╋   ╋   ╋━━━╋━━━╋━━━╋   ╋   ╋   ╋━━━╋━━━┫\n",
      "┃                   ┃   ┃   ┃   ┃       ┃   ┃   ┃ *   * ┃   ┃\n",
      "┣   ╋   ╋━━━╋━━━╋   ╋━━━╋━━━╋   ╋━━━╋   ╋   ╋━━━╋   ╋   ╋   ┫\n",
      "┃   ┃   ┃   ┃   ┃   ┃       ┃               ┃   ┃   ┃ *     ┃\n",
      "┣   ╋━━━╋   ╋   ╋━━━╋   ╋   ╋   ╋━━━╋   ╋━━━╋   ╋━━━╋   ╋━━━┫\n",
      "┃       ┃       ┃   ┃   ┃   ┃   ┃                     *   * ┃\n",
      "┣━━━╋   ╋━━━╋   ╋   ╋━━━╋   ╋   ╋━━━╋━━━╋━━━╋━━━╋━━━╋━━━╋   ┫\n",
      "┃                   ┃       ┃   ┃   ┃         *   *   *   * ┃\n",
      "┣   ╋━━━╋━━━╋   ╋   ╋   ╋━━━╋━━━╋   ╋━━━╋━━━╋   ╋━━━╋━━━╋━━━┫\n",
      "┃   ┃   ┃       ┃       ┃   ┃   ┃           ┃ *     ┃       ┃\n",
      "┣   ╋   ╋   ╋━━━╋   ╋━━━╋   ╋   ╋   ╋━━━╋   ╋   ╋━━━╋   ╋━━━┫\n",
      "┃   ┃   ┃       ┃   ┃   ┃               ┃   ┃ *   *   *   * ┃\n",
      "┣   ╋   ╋   ╋   ╋   ╋   ╋━━━╋   ╋   ╋━━━╋━━━╋━━━╋   ╋   ╋   ┫\n",
      "┃       ┃   ┃   ┃   ┃           ┃                   ┃   ┃ A ┃\n",
      "┗━━━┻━━━┻━━━┻━━━┻━━━┻━━━┻━━━┻━━━┻━━━┻━━━┻━━━┻━━━┻━━━┻━━━┻━━━┛\n",
      "\n"
     ]
    }
   ],
   "source": [
    "laby = Maze.gen_fusion(15, 15)\n",
    "solution = laby.solve_dfs((0, 0), (14, 14))\n",
    "str_solution = {c:'*' for c in solution}\n",
    "str_solution[( 0,  0)] = 'D'\n",
    "str_solution[(14, 14)] = 'A'\n",
    "print(laby.overlay(str_solution))"
   ]
  },
  {
   "cell_type": "code",
   "execution_count": 43,
   "id": "73f95343",
   "metadata": {},
   "outputs": [],
   "source": [
    "### Parcours en largeur"
   ]
  },
  {
   "cell_type": "code",
   "execution_count": 45,
   "id": "0151cecf",
   "metadata": {},
   "outputs": [
    {
     "name": "stdout",
     "output_type": "stream",
     "text": [
      "┏━━━┳━━━┳━━━┳━━━┳━━━┳━━━┳━━━┳━━━┳━━━┳━━━┳━━━┳━━━┳━━━┳━━━┳━━━┓\n",
      "┃ D   *             ┃           ┃ *   *   *             ┃   ┃\n",
      "┣━━━╋   ╋━━━╋━━━╋   ╋━━━╋━━━╋   ╋   ╋━━━╋   ╋━━━╋━━━╋   ╋   ┫\n",
      "┃ *   * ┃                   ┃   ┃ * ┃   ┃ *   * ┃   ┃       ┃\n",
      "┣   ╋━━━╋━━━╋━━━╋━━━╋━━━╋   ╋   ╋   ╋   ╋━━━╋   ╋   ╋━━━╋   ┫\n",
      "┃ *   *   *   *   *   * ┃       ┃ *   *   * ┃ * ┃       ┃   ┃\n",
      "┣   ╋━━━╋━━━╋━━━╋   ╋   ╋   ╋━━━╋━━━╋━━━╋   ╋   ╋━━━╋   ╋   ┫\n",
      "┃       ┃ *   * ┃   ┃ * ┃   ┃ *   *   *   * ┃ *   * ┃       ┃\n",
      "┣━━━╋━━━╋   ╋   ╋   ╋   ╋━━━╋   ╋━━━╋━━━╋━━━╋━━━╋   ╋━━━╋━━━┫\n",
      "┃ *   *   * ┃ * ┃   ┃ *   * ┃ * ┃   ┃ *   *   * ┃ * ┃ *   * ┃\n",
      "┣   ╋━━━╋━━━╋   ╋   ╋━━━╋   ╋   ╋   ╋   ╋━━━╋   ╋   ╋   ╋   ┫\n",
      "┃ *   * ┃ *   * ┃       ┃ *   *     ┃ * ┃ *   * ┃ *   * ┃ * ┃\n",
      "┣   ╋   ╋   ╋━━━╋━━━╋   ╋━━━╋━━━╋━━━╋   ╋   ╋━━━╋━━━╋━━━╋   ┫\n",
      "┃   ┃ * ┃ * ┃       ┃           ┃ *   * ┃ *   * ┃ *   * ┃ * ┃\n",
      "┣━━━╋   ╋   ╋   ╋━━━╋━━━╋━━━╋   ╋   ╋━━━╋━━━╋   ╋   ╋   ╋   ┫\n",
      "┃ *   * ┃ * ┃                   ┃ * ┃         *   * ┃ *   * ┃\n",
      "┣   ╋━━━╋   ╋━━━╋━━━╋━━━╋━━━╋━━━╋   ╋━━━╋━━━╋━━━╋━━━╋━━━╋━━━┫\n",
      "┃ * ┃     *   *   *   * ┃ *   *   * ┃                       ┃\n",
      "┣   ╋━━━╋━━━╋━━━╋━━━╋   ╋   ╋   ╋━━━╋   ╋━━━╋━━━╋━━━╋━━━╋   ┫\n",
      "┃ *   * ┃           ┃ *   * ┃   ┃       ┃   ┃               ┃\n",
      "┣━━━╋   ╋   ╋━━━╋   ╋━━━╋━━━╋   ╋   ╋━━━╋   ╋━━━╋━━━╋━━━╋━━━┫\n",
      "┃ *   * ┃       ┃   ┃           ┃           ┃ *   *   *   * ┃\n",
      "┣   ╋━━━╋━━━╋   ╋━━━╋   ╋━━━╋━━━╋━━━╋━━━╋   ╋   ╋━━━╋━━━╋   ┫\n",
      "┃ *   *   * ┃   ┃       ┃       ┃       ┃   ┃ * ┃ *   * ┃ * ┃\n",
      "┣━━━╋━━━╋   ╋   ╋   ╋━━━╋   ╋   ╋   ╋   ╋   ╋   ╋   ╋   ╋   ┫\n",
      "┃ *   *   * ┃       ┃       ┃       ┃   ┃   ┃ * ┃ * ┃ *   * ┃\n",
      "┣   ╋━━━╋━━━╋━━━╋   ╋   ╋━━━╋━━━╋━━━╋   ╋   ╋   ╋   ╋━━━╋━━━┫\n",
      "┃ * ┃ *   *   * ┃   ┃   ┃ *   * ┃   ┃       ┃ * ┃ * ┃       ┃\n",
      "┣   ╋   ╋━━━╋   ╋━━━╋   ╋   ╋   ╋   ╋━━━╋━━━╋   ╋   ╋━━━╋   ┫\n",
      "┃ *   *     ┃ *   *   *   * ┃ *   *   *   *   * ┃ *   *   A ┃\n",
      "┗━━━┻━━━┻━━━┻━━━┻━━━┻━━━┻━━━┻━━━┻━━━┻━━━┻━━━┻━━━┻━━━┻━━━┻━━━┛\n",
      "\n"
     ]
    }
   ],
   "source": [
    "laby = Maze.gen_exploration(15, 15)\n",
    "solution = laby.solve_bfs((0, 0), (14, 14))\n",
    "str_solution = {c:'*' for c in solution}\n",
    "str_solution[( 0,  0)] = 'D'\n",
    "str_solution[(14, 14)] = 'A'\n",
    "print(laby.overlay(str_solution))"
   ]
  },
  {
   "cell_type": "code",
   "execution_count": null,
   "id": "deb7d420",
   "metadata": {},
   "outputs": [],
   "source": []
  }
 ],
 "metadata": {
  "kernelspec": {
   "display_name": "Python 3 (ipykernel)",
   "language": "python",
   "name": "python3"
  },
  "language_info": {
   "codemirror_mode": {
    "name": "ipython",
    "version": 3
   },
   "file_extension": ".py",
   "mimetype": "text/x-python",
   "name": "python",
   "nbconvert_exporter": "python",
   "pygments_lexer": "ipython3",
   "version": "3.12.2"
  }
 },
 "nbformat": 4,
 "nbformat_minor": 5
}
